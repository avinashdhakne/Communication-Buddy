{
  "cells": [
    {
      "cell_type": "markdown",
      "metadata": {
        "id": "view-in-github",
        "colab_type": "text"
      },
      "source": [
        "<a href=\"https://colab.research.google.com/github/avinashdhakne/Communication-Buddy/blob/main/Facial_emotion_detection.ipynb\" target=\"_parent\"><img src=\"https://colab.research.google.com/assets/colab-badge.svg\" alt=\"Open In Colab\"/></a>"
      ]
    },
    {
      "cell_type": "code",
      "execution_count": null,
      "metadata": {
        "id": "oaZDzX0af-mv"
      },
      "outputs": [],
      "source": [
        "import pandas as pd\n",
        "import numpy as np\n",
        "import matplotlib.pyplot as plt\n",
        "import seaborn as sns"
      ]
    },
    {
      "cell_type": "code",
      "execution_count": null,
      "metadata": {
        "id": "MzReiUuTghhx"
      },
      "outputs": [],
      "source": [
        "import cv2\n",
        "from google.colab.patches import cv2_imshow\n",
        "from keras.preprocessing import image\n",
        "from PIL import Image"
      ]
    },
    {
      "cell_type": "code",
      "execution_count": null,
      "metadata": {
        "id": "l-WaJp9VglQh"
      },
      "outputs": [],
      "source": [
        "from keras.layers import Dense\n",
        "from keras.models import Sequential\n",
        "from tensorflow.keras.layers import Flatten,BatchNormalization\n",
        "from tensorflow.keras.layers import MaxPooling2D,Conv2D\n",
        "from tensorflow.keras.layers import Input,Activation,Add\n",
        "from tensorflow.keras.models import Model \n",
        "from tensorflow.keras.optimizers import Adam\n",
        "import tensorflow as tf"
      ]
    },
    {
      "cell_type": "code",
      "execution_count": null,
      "metadata": {
        "id": "ERbKFyHOgosS"
      },
      "outputs": [],
      "source": [
        "from tensorflow.keras.layers import Conv2D,InputLayer, Dropout, BatchNormalization, Flatten, Dense, MaxPooling2D"
      ]
    },
    {
      "cell_type": "code",
      "execution_count": null,
      "metadata": {
        "id": "qIteUF1Bgr2y",
        "colab": {
          "base_uri": "https://localhost:8080/"
        },
        "outputId": "3575c604-cdb2-4b9d-f435-29d312b563c1"
      },
      "outputs": [
        {
          "output_type": "stream",
          "name": "stdout",
          "text": [
            "Drive already mounted at /content/gdrive; to attempt to forcibly remount, call drive.mount(\"/content/gdrive\", force_remount=True).\n"
          ]
        }
      ],
      "source": [
        "from google.colab import drive\n",
        "drive.mount(\"/content/gdrive\")"
      ]
    },
    {
      "cell_type": "code",
      "execution_count": null,
      "metadata": {
        "id": "rf9a10Bvgwbl"
      },
      "outputs": [],
      "source": [
        "import pandas as pd\n",
        "df=pd.read_csv('/content/gdrive/MyDrive/SE/fer2013.csv')"
      ]
    },
    {
      "cell_type": "code",
      "execution_count": null,
      "metadata": {
        "id": "WlSCowBciGBK",
        "colab": {
          "base_uri": "https://localhost:8080/",
          "height": 423
        },
        "outputId": "319d3895-29ef-495e-e67a-459a87e98187"
      },
      "outputs": [
        {
          "output_type": "execute_result",
          "data": {
            "text/plain": [
              "       emotion                                             pixels        Usage\n",
              "0            0  70 80 82 72 58 58 60 63 54 58 60 48 89 115 121...     Training\n",
              "1            0  151 150 147 155 148 133 111 140 170 174 182 15...     Training\n",
              "2            2  231 212 156 164 174 138 161 173 182 200 106 38...     Training\n",
              "3            4  24 32 36 30 32 23 19 20 30 41 21 22 32 34 21 1...     Training\n",
              "4            6  4 0 0 0 0 0 0 0 0 0 0 0 3 15 23 28 48 50 58 84...     Training\n",
              "...        ...                                                ...          ...\n",
              "35882        6  50 36 17 22 23 29 33 39 34 37 37 37 39 43 48 5...  PrivateTest\n",
              "35883        3  178 174 172 173 181 188 191 194 196 199 200 20...  PrivateTest\n",
              "35884        0  17 17 16 23 28 22 19 17 25 26 20 24 31 19 27 9...  PrivateTest\n",
              "35885        3  30 28 28 29 31 30 42 68 79 81 77 67 67 71 63 6...  PrivateTest\n",
              "35886        2  19 13 14 12 13 16 21 33 50 57 71 84 97 108 122...  PrivateTest\n",
              "\n",
              "[35887 rows x 3 columns]"
            ],
            "text/html": [
              "\n",
              "  <div id=\"df-6a5f6360-994e-415b-aecd-de5ef04f659b\">\n",
              "    <div class=\"colab-df-container\">\n",
              "      <div>\n",
              "<style scoped>\n",
              "    .dataframe tbody tr th:only-of-type {\n",
              "        vertical-align: middle;\n",
              "    }\n",
              "\n",
              "    .dataframe tbody tr th {\n",
              "        vertical-align: top;\n",
              "    }\n",
              "\n",
              "    .dataframe thead th {\n",
              "        text-align: right;\n",
              "    }\n",
              "</style>\n",
              "<table border=\"1\" class=\"dataframe\">\n",
              "  <thead>\n",
              "    <tr style=\"text-align: right;\">\n",
              "      <th></th>\n",
              "      <th>emotion</th>\n",
              "      <th>pixels</th>\n",
              "      <th>Usage</th>\n",
              "    </tr>\n",
              "  </thead>\n",
              "  <tbody>\n",
              "    <tr>\n",
              "      <th>0</th>\n",
              "      <td>0</td>\n",
              "      <td>70 80 82 72 58 58 60 63 54 58 60 48 89 115 121...</td>\n",
              "      <td>Training</td>\n",
              "    </tr>\n",
              "    <tr>\n",
              "      <th>1</th>\n",
              "      <td>0</td>\n",
              "      <td>151 150 147 155 148 133 111 140 170 174 182 15...</td>\n",
              "      <td>Training</td>\n",
              "    </tr>\n",
              "    <tr>\n",
              "      <th>2</th>\n",
              "      <td>2</td>\n",
              "      <td>231 212 156 164 174 138 161 173 182 200 106 38...</td>\n",
              "      <td>Training</td>\n",
              "    </tr>\n",
              "    <tr>\n",
              "      <th>3</th>\n",
              "      <td>4</td>\n",
              "      <td>24 32 36 30 32 23 19 20 30 41 21 22 32 34 21 1...</td>\n",
              "      <td>Training</td>\n",
              "    </tr>\n",
              "    <tr>\n",
              "      <th>4</th>\n",
              "      <td>6</td>\n",
              "      <td>4 0 0 0 0 0 0 0 0 0 0 0 3 15 23 28 48 50 58 84...</td>\n",
              "      <td>Training</td>\n",
              "    </tr>\n",
              "    <tr>\n",
              "      <th>...</th>\n",
              "      <td>...</td>\n",
              "      <td>...</td>\n",
              "      <td>...</td>\n",
              "    </tr>\n",
              "    <tr>\n",
              "      <th>35882</th>\n",
              "      <td>6</td>\n",
              "      <td>50 36 17 22 23 29 33 39 34 37 37 37 39 43 48 5...</td>\n",
              "      <td>PrivateTest</td>\n",
              "    </tr>\n",
              "    <tr>\n",
              "      <th>35883</th>\n",
              "      <td>3</td>\n",
              "      <td>178 174 172 173 181 188 191 194 196 199 200 20...</td>\n",
              "      <td>PrivateTest</td>\n",
              "    </tr>\n",
              "    <tr>\n",
              "      <th>35884</th>\n",
              "      <td>0</td>\n",
              "      <td>17 17 16 23 28 22 19 17 25 26 20 24 31 19 27 9...</td>\n",
              "      <td>PrivateTest</td>\n",
              "    </tr>\n",
              "    <tr>\n",
              "      <th>35885</th>\n",
              "      <td>3</td>\n",
              "      <td>30 28 28 29 31 30 42 68 79 81 77 67 67 71 63 6...</td>\n",
              "      <td>PrivateTest</td>\n",
              "    </tr>\n",
              "    <tr>\n",
              "      <th>35886</th>\n",
              "      <td>2</td>\n",
              "      <td>19 13 14 12 13 16 21 33 50 57 71 84 97 108 122...</td>\n",
              "      <td>PrivateTest</td>\n",
              "    </tr>\n",
              "  </tbody>\n",
              "</table>\n",
              "<p>35887 rows × 3 columns</p>\n",
              "</div>\n",
              "      <button class=\"colab-df-convert\" onclick=\"convertToInteractive('df-6a5f6360-994e-415b-aecd-de5ef04f659b')\"\n",
              "              title=\"Convert this dataframe to an interactive table.\"\n",
              "              style=\"display:none;\">\n",
              "        \n",
              "  <svg xmlns=\"http://www.w3.org/2000/svg\" height=\"24px\"viewBox=\"0 0 24 24\"\n",
              "       width=\"24px\">\n",
              "    <path d=\"M0 0h24v24H0V0z\" fill=\"none\"/>\n",
              "    <path d=\"M18.56 5.44l.94 2.06.94-2.06 2.06-.94-2.06-.94-.94-2.06-.94 2.06-2.06.94zm-11 1L8.5 8.5l.94-2.06 2.06-.94-2.06-.94L8.5 2.5l-.94 2.06-2.06.94zm10 10l.94 2.06.94-2.06 2.06-.94-2.06-.94-.94-2.06-.94 2.06-2.06.94z\"/><path d=\"M17.41 7.96l-1.37-1.37c-.4-.4-.92-.59-1.43-.59-.52 0-1.04.2-1.43.59L10.3 9.45l-7.72 7.72c-.78.78-.78 2.05 0 2.83L4 21.41c.39.39.9.59 1.41.59.51 0 1.02-.2 1.41-.59l7.78-7.78 2.81-2.81c.8-.78.8-2.07 0-2.86zM5.41 20L4 18.59l7.72-7.72 1.47 1.35L5.41 20z\"/>\n",
              "  </svg>\n",
              "      </button>\n",
              "      \n",
              "  <style>\n",
              "    .colab-df-container {\n",
              "      display:flex;\n",
              "      flex-wrap:wrap;\n",
              "      gap: 12px;\n",
              "    }\n",
              "\n",
              "    .colab-df-convert {\n",
              "      background-color: #E8F0FE;\n",
              "      border: none;\n",
              "      border-radius: 50%;\n",
              "      cursor: pointer;\n",
              "      display: none;\n",
              "      fill: #1967D2;\n",
              "      height: 32px;\n",
              "      padding: 0 0 0 0;\n",
              "      width: 32px;\n",
              "    }\n",
              "\n",
              "    .colab-df-convert:hover {\n",
              "      background-color: #E2EBFA;\n",
              "      box-shadow: 0px 1px 2px rgba(60, 64, 67, 0.3), 0px 1px 3px 1px rgba(60, 64, 67, 0.15);\n",
              "      fill: #174EA6;\n",
              "    }\n",
              "\n",
              "    [theme=dark] .colab-df-convert {\n",
              "      background-color: #3B4455;\n",
              "      fill: #D2E3FC;\n",
              "    }\n",
              "\n",
              "    [theme=dark] .colab-df-convert:hover {\n",
              "      background-color: #434B5C;\n",
              "      box-shadow: 0px 1px 3px 1px rgba(0, 0, 0, 0.15);\n",
              "      filter: drop-shadow(0px 1px 2px rgba(0, 0, 0, 0.3));\n",
              "      fill: #FFFFFF;\n",
              "    }\n",
              "  </style>\n",
              "\n",
              "      <script>\n",
              "        const buttonEl =\n",
              "          document.querySelector('#df-6a5f6360-994e-415b-aecd-de5ef04f659b button.colab-df-convert');\n",
              "        buttonEl.style.display =\n",
              "          google.colab.kernel.accessAllowed ? 'block' : 'none';\n",
              "\n",
              "        async function convertToInteractive(key) {\n",
              "          const element = document.querySelector('#df-6a5f6360-994e-415b-aecd-de5ef04f659b');\n",
              "          const dataTable =\n",
              "            await google.colab.kernel.invokeFunction('convertToInteractive',\n",
              "                                                     [key], {});\n",
              "          if (!dataTable) return;\n",
              "\n",
              "          const docLinkHtml = 'Like what you see? Visit the ' +\n",
              "            '<a target=\"_blank\" href=https://colab.research.google.com/notebooks/data_table.ipynb>data table notebook</a>'\n",
              "            + ' to learn more about interactive tables.';\n",
              "          element.innerHTML = '';\n",
              "          dataTable['output_type'] = 'display_data';\n",
              "          await google.colab.output.renderOutput(dataTable, element);\n",
              "          const docLink = document.createElement('div');\n",
              "          docLink.innerHTML = docLinkHtml;\n",
              "          element.appendChild(docLink);\n",
              "        }\n",
              "      </script>\n",
              "    </div>\n",
              "  </div>\n",
              "  "
            ]
          },
          "metadata": {},
          "execution_count": 178
        }
      ],
      "source": [
        "df"
      ]
    },
    {
      "cell_type": "code",
      "execution_count": null,
      "metadata": {
        "id": "_I82VnLliO7I"
      },
      "outputs": [],
      "source": [
        "df1=df.drop(['Usage'],axis=1)"
      ]
    },
    {
      "cell_type": "code",
      "execution_count": null,
      "metadata": {
        "id": "awu5ge0PiZDc",
        "colab": {
          "base_uri": "https://localhost:8080/",
          "height": 423
        },
        "outputId": "d930e67d-d662-4b83-ced1-c2515035264a"
      },
      "outputs": [
        {
          "output_type": "execute_result",
          "data": {
            "text/plain": [
              "       emotion                                             pixels\n",
              "0            0  70 80 82 72 58 58 60 63 54 58 60 48 89 115 121...\n",
              "1            0  151 150 147 155 148 133 111 140 170 174 182 15...\n",
              "2            2  231 212 156 164 174 138 161 173 182 200 106 38...\n",
              "3            4  24 32 36 30 32 23 19 20 30 41 21 22 32 34 21 1...\n",
              "4            6  4 0 0 0 0 0 0 0 0 0 0 0 3 15 23 28 48 50 58 84...\n",
              "...        ...                                                ...\n",
              "35882        6  50 36 17 22 23 29 33 39 34 37 37 37 39 43 48 5...\n",
              "35883        3  178 174 172 173 181 188 191 194 196 199 200 20...\n",
              "35884        0  17 17 16 23 28 22 19 17 25 26 20 24 31 19 27 9...\n",
              "35885        3  30 28 28 29 31 30 42 68 79 81 77 67 67 71 63 6...\n",
              "35886        2  19 13 14 12 13 16 21 33 50 57 71 84 97 108 122...\n",
              "\n",
              "[35887 rows x 2 columns]"
            ],
            "text/html": [
              "\n",
              "  <div id=\"df-3f5dfd62-39ec-47c6-83f9-972b396954e3\">\n",
              "    <div class=\"colab-df-container\">\n",
              "      <div>\n",
              "<style scoped>\n",
              "    .dataframe tbody tr th:only-of-type {\n",
              "        vertical-align: middle;\n",
              "    }\n",
              "\n",
              "    .dataframe tbody tr th {\n",
              "        vertical-align: top;\n",
              "    }\n",
              "\n",
              "    .dataframe thead th {\n",
              "        text-align: right;\n",
              "    }\n",
              "</style>\n",
              "<table border=\"1\" class=\"dataframe\">\n",
              "  <thead>\n",
              "    <tr style=\"text-align: right;\">\n",
              "      <th></th>\n",
              "      <th>emotion</th>\n",
              "      <th>pixels</th>\n",
              "    </tr>\n",
              "  </thead>\n",
              "  <tbody>\n",
              "    <tr>\n",
              "      <th>0</th>\n",
              "      <td>0</td>\n",
              "      <td>70 80 82 72 58 58 60 63 54 58 60 48 89 115 121...</td>\n",
              "    </tr>\n",
              "    <tr>\n",
              "      <th>1</th>\n",
              "      <td>0</td>\n",
              "      <td>151 150 147 155 148 133 111 140 170 174 182 15...</td>\n",
              "    </tr>\n",
              "    <tr>\n",
              "      <th>2</th>\n",
              "      <td>2</td>\n",
              "      <td>231 212 156 164 174 138 161 173 182 200 106 38...</td>\n",
              "    </tr>\n",
              "    <tr>\n",
              "      <th>3</th>\n",
              "      <td>4</td>\n",
              "      <td>24 32 36 30 32 23 19 20 30 41 21 22 32 34 21 1...</td>\n",
              "    </tr>\n",
              "    <tr>\n",
              "      <th>4</th>\n",
              "      <td>6</td>\n",
              "      <td>4 0 0 0 0 0 0 0 0 0 0 0 3 15 23 28 48 50 58 84...</td>\n",
              "    </tr>\n",
              "    <tr>\n",
              "      <th>...</th>\n",
              "      <td>...</td>\n",
              "      <td>...</td>\n",
              "    </tr>\n",
              "    <tr>\n",
              "      <th>35882</th>\n",
              "      <td>6</td>\n",
              "      <td>50 36 17 22 23 29 33 39 34 37 37 37 39 43 48 5...</td>\n",
              "    </tr>\n",
              "    <tr>\n",
              "      <th>35883</th>\n",
              "      <td>3</td>\n",
              "      <td>178 174 172 173 181 188 191 194 196 199 200 20...</td>\n",
              "    </tr>\n",
              "    <tr>\n",
              "      <th>35884</th>\n",
              "      <td>0</td>\n",
              "      <td>17 17 16 23 28 22 19 17 25 26 20 24 31 19 27 9...</td>\n",
              "    </tr>\n",
              "    <tr>\n",
              "      <th>35885</th>\n",
              "      <td>3</td>\n",
              "      <td>30 28 28 29 31 30 42 68 79 81 77 67 67 71 63 6...</td>\n",
              "    </tr>\n",
              "    <tr>\n",
              "      <th>35886</th>\n",
              "      <td>2</td>\n",
              "      <td>19 13 14 12 13 16 21 33 50 57 71 84 97 108 122...</td>\n",
              "    </tr>\n",
              "  </tbody>\n",
              "</table>\n",
              "<p>35887 rows × 2 columns</p>\n",
              "</div>\n",
              "      <button class=\"colab-df-convert\" onclick=\"convertToInteractive('df-3f5dfd62-39ec-47c6-83f9-972b396954e3')\"\n",
              "              title=\"Convert this dataframe to an interactive table.\"\n",
              "              style=\"display:none;\">\n",
              "        \n",
              "  <svg xmlns=\"http://www.w3.org/2000/svg\" height=\"24px\"viewBox=\"0 0 24 24\"\n",
              "       width=\"24px\">\n",
              "    <path d=\"M0 0h24v24H0V0z\" fill=\"none\"/>\n",
              "    <path d=\"M18.56 5.44l.94 2.06.94-2.06 2.06-.94-2.06-.94-.94-2.06-.94 2.06-2.06.94zm-11 1L8.5 8.5l.94-2.06 2.06-.94-2.06-.94L8.5 2.5l-.94 2.06-2.06.94zm10 10l.94 2.06.94-2.06 2.06-.94-2.06-.94-.94-2.06-.94 2.06-2.06.94z\"/><path d=\"M17.41 7.96l-1.37-1.37c-.4-.4-.92-.59-1.43-.59-.52 0-1.04.2-1.43.59L10.3 9.45l-7.72 7.72c-.78.78-.78 2.05 0 2.83L4 21.41c.39.39.9.59 1.41.59.51 0 1.02-.2 1.41-.59l7.78-7.78 2.81-2.81c.8-.78.8-2.07 0-2.86zM5.41 20L4 18.59l7.72-7.72 1.47 1.35L5.41 20z\"/>\n",
              "  </svg>\n",
              "      </button>\n",
              "      \n",
              "  <style>\n",
              "    .colab-df-container {\n",
              "      display:flex;\n",
              "      flex-wrap:wrap;\n",
              "      gap: 12px;\n",
              "    }\n",
              "\n",
              "    .colab-df-convert {\n",
              "      background-color: #E8F0FE;\n",
              "      border: none;\n",
              "      border-radius: 50%;\n",
              "      cursor: pointer;\n",
              "      display: none;\n",
              "      fill: #1967D2;\n",
              "      height: 32px;\n",
              "      padding: 0 0 0 0;\n",
              "      width: 32px;\n",
              "    }\n",
              "\n",
              "    .colab-df-convert:hover {\n",
              "      background-color: #E2EBFA;\n",
              "      box-shadow: 0px 1px 2px rgba(60, 64, 67, 0.3), 0px 1px 3px 1px rgba(60, 64, 67, 0.15);\n",
              "      fill: #174EA6;\n",
              "    }\n",
              "\n",
              "    [theme=dark] .colab-df-convert {\n",
              "      background-color: #3B4455;\n",
              "      fill: #D2E3FC;\n",
              "    }\n",
              "\n",
              "    [theme=dark] .colab-df-convert:hover {\n",
              "      background-color: #434B5C;\n",
              "      box-shadow: 0px 1px 3px 1px rgba(0, 0, 0, 0.15);\n",
              "      filter: drop-shadow(0px 1px 2px rgba(0, 0, 0, 0.3));\n",
              "      fill: #FFFFFF;\n",
              "    }\n",
              "  </style>\n",
              "\n",
              "      <script>\n",
              "        const buttonEl =\n",
              "          document.querySelector('#df-3f5dfd62-39ec-47c6-83f9-972b396954e3 button.colab-df-convert');\n",
              "        buttonEl.style.display =\n",
              "          google.colab.kernel.accessAllowed ? 'block' : 'none';\n",
              "\n",
              "        async function convertToInteractive(key) {\n",
              "          const element = document.querySelector('#df-3f5dfd62-39ec-47c6-83f9-972b396954e3');\n",
              "          const dataTable =\n",
              "            await google.colab.kernel.invokeFunction('convertToInteractive',\n",
              "                                                     [key], {});\n",
              "          if (!dataTable) return;\n",
              "\n",
              "          const docLinkHtml = 'Like what you see? Visit the ' +\n",
              "            '<a target=\"_blank\" href=https://colab.research.google.com/notebooks/data_table.ipynb>data table notebook</a>'\n",
              "            + ' to learn more about interactive tables.';\n",
              "          element.innerHTML = '';\n",
              "          dataTable['output_type'] = 'display_data';\n",
              "          await google.colab.output.renderOutput(dataTable, element);\n",
              "          const docLink = document.createElement('div');\n",
              "          docLink.innerHTML = docLinkHtml;\n",
              "          element.appendChild(docLink);\n",
              "        }\n",
              "      </script>\n",
              "    </div>\n",
              "  </div>\n",
              "  "
            ]
          },
          "metadata": {},
          "execution_count": 180
        }
      ],
      "source": [
        "df1"
      ]
    },
    {
      "cell_type": "code",
      "execution_count": null,
      "metadata": {
        "id": "X1KUcP7QibKe",
        "colab": {
          "base_uri": "https://localhost:8080/"
        },
        "outputId": "c9a65c56-448c-4bdc-cd63-c235079df1be"
      },
      "outputs": [
        {
          "output_type": "execute_result",
          "data": {
            "text/plain": [
              "array([0, 2, 4, 6, 3, 5, 1])"
            ]
          },
          "metadata": {},
          "execution_count": 181
        }
      ],
      "source": [
        "df1['emotion'].unique()"
      ]
    },
    {
      "cell_type": "code",
      "execution_count": null,
      "metadata": {
        "id": "LANDzQY8ifXG"
      },
      "outputs": [],
      "source": [
        "dict={0:'Anger',1:'Disgust',2:'Fear',3:'Happiness',4:'Sadness',5:'Surprise',6:'Neutral'}"
      ]
    },
    {
      "cell_type": "code",
      "execution_count": null,
      "metadata": {
        "id": "okY5Raz7i5si"
      },
      "outputs": [],
      "source": [
        "a=df['emotion'].value_counts()\n",
        "b=a.index.tolist()"
      ]
    },
    {
      "cell_type": "code",
      "execution_count": null,
      "metadata": {
        "id": "MHFhQ4e_kD5_",
        "colab": {
          "base_uri": "https://localhost:8080/"
        },
        "outputId": "6141576a-650f-4068-a29e-5719666f38ae"
      },
      "outputs": [
        {
          "output_type": "execute_result",
          "data": {
            "text/plain": [
              "3    8989\n",
              "6    6198\n",
              "4    6077\n",
              "2    5121\n",
              "0    4953\n",
              "5    4002\n",
              "1     547\n",
              "Name: emotion, dtype: int64"
            ]
          },
          "metadata": {},
          "execution_count": 184
        }
      ],
      "source": [
        "a"
      ]
    },
    {
      "cell_type": "code",
      "execution_count": null,
      "metadata": {
        "id": "D4EgkelEkpsA",
        "colab": {
          "base_uri": "https://localhost:8080/"
        },
        "outputId": "a1e443ae-037f-4f61-f36d-b56f61d63786"
      },
      "outputs": [
        {
          "output_type": "execute_result",
          "data": {
            "text/plain": [
              "[3, 6, 4, 2, 0, 5, 1]"
            ]
          },
          "metadata": {},
          "execution_count": 185
        }
      ],
      "source": [
        "b"
      ]
    },
    {
      "cell_type": "code",
      "execution_count": null,
      "metadata": {
        "id": "oJfmByn2kHAa"
      },
      "outputs": [],
      "source": [
        "c=[]\n",
        "for i in range(len(b)):\n",
        "  c.append(dict[b[i]])"
      ]
    },
    {
      "cell_type": "code",
      "execution_count": null,
      "metadata": {
        "id": "B6idkctVknpF",
        "colab": {
          "base_uri": "https://localhost:8080/"
        },
        "outputId": "3cb0453b-cffb-47b0-c3ec-24cfd90092cd"
      },
      "outputs": [
        {
          "output_type": "execute_result",
          "data": {
            "text/plain": [
              "['Happiness', 'Neutral', 'Sadness', 'Fear', 'Anger', 'Surprise', 'Disgust']"
            ]
          },
          "metadata": {},
          "execution_count": 187
        }
      ],
      "source": [
        "c"
      ]
    },
    {
      "cell_type": "code",
      "execution_count": null,
      "metadata": {
        "id": "V-YT3Rd5i_eg",
        "colab": {
          "base_uri": "https://localhost:8080/",
          "height": 284
        },
        "outputId": "5e24272b-bf51-4841-a550-6b5e3f5a52b5"
      },
      "outputs": [
        {
          "output_type": "execute_result",
          "data": {
            "text/plain": [
              "<matplotlib.axes._subplots.AxesSubplot at 0x7f444b174d90>"
            ]
          },
          "metadata": {},
          "execution_count": 188
        },
        {
          "output_type": "display_data",
          "data": {
            "text/plain": [
              "<Figure size 432x288 with 1 Axes>"
            ],
            "image/png": "[encoded data removed]"
          },
          "metadata": {
            "needs_background": "light"
          }
        }
      ],
      "source": [
        "sns.barplot(x=c,y=a)"
      ]
    },
    {
      "cell_type": "code",
      "execution_count": null,
      "metadata": {
        "id": "BYKlN3dRjGsM",
        "colab": {
          "base_uri": "https://localhost:8080/"
        },
        "outputId": "e467181c-59da-4a9f-e41c-7427d69da7ca"
      },
      "outputs": [
        {
          "output_type": "execute_result",
          "data": {
            "text/plain": [
              "(35887, 2)"
            ]
          },
          "metadata": {},
          "execution_count": 189
        }
      ],
      "source": [
        "df1.shape"
      ]
    },
    {
      "cell_type": "code",
      "execution_count": null,
      "metadata": {
        "id": "DLfiUSHUglwW"
      },
      "outputs": [],
      "source": [
        "INTERESTED_LABELS = [2,3,4,6]\n",
        "df1 = df1[df1.emotion.isin(INTERESTED_LABELS)]"
      ]
    },
    {
      "cell_type": "code",
      "execution_count": null,
      "metadata": {
        "id": "Z3BQxTRNlC-G",
        "colab": {
          "base_uri": "https://localhost:8080/"
        },
        "outputId": "c72c3e56-fecf-44eb-f414-d686f0793509"
      },
      "outputs": [
        {
          "output_type": "stream",
          "name": "stderr",
          "text": [
            "/usr/local/lib/python3.7/dist-packages/ipykernel_launcher.py:1: SettingWithCopyWarning: \n",
            "A value is trying to be set on a copy of a slice from a DataFrame.\n",
            "Try using .loc[row_indexer,col_indexer] = value instead\n",
            "\n",
            "See the caveats in the documentation: https://pandas.pydata.org/pandas-docs/stable/user_guide/indexing.html#returning-a-view-versus-a-copy\n",
            "  \"\"\"Entry point for launching an IPython kernel.\n"
          ]
        }
      ],
      "source": [
        "df1['pixels'] = df1['pixels'].map(lambda x: np.array(x.split(' '), dtype=np.float32).reshape(48, 48))\n",
        "X = np.array(df1['pixels'].to_list())"
      ]
    },
    {
      "cell_type": "code",
      "execution_count": null,
      "metadata": {
        "id": "CCfMyLGhlsNM"
      },
      "outputs": [],
      "source": [
        "X_reshaped = X.reshape(X.shape[0], 48, 48, 1)"
      ]
    },
    {
      "cell_type": "code",
      "execution_count": null,
      "metadata": {
        "id": "NyQZhhmSl09A"
      },
      "outputs": [],
      "source": [
        "df=X_reshaped"
      ]
    },
    {
      "cell_type": "code",
      "source": [
        "df"
      ],
      "metadata": {
        "id": "VdgKAw8g_cPM",
        "colab": {
          "base_uri": "https://localhost:8080/"
        },
        "outputId": "cb30f161-71ee-406c-fd88-86706e6ad7d7"
      },
      "execution_count": null,
      "outputs": [
        {
          "output_type": "execute_result",
          "data": {
            "text/plain": [
              "array([[[[231.],\n",
              "         [212.],\n",
              "         [156.],\n",
              "         ...,\n",
              "         [ 44.],\n",
              "         [ 27.],\n",
              "         [ 16.]],\n",
              "\n",
              "        [[229.],\n",
              "         [175.],\n",
              "         [148.],\n",
              "         ...,\n",
              "         [ 27.],\n",
              "         [ 35.],\n",
              "         [ 27.]],\n",
              "\n",
              "        [[214.],\n",
              "         [156.],\n",
              "         [157.],\n",
              "         ...,\n",
              "         [ 28.],\n",
              "         [ 22.],\n",
              "         [ 28.]],\n",
              "\n",
              "        ...,\n",
              "\n",
              "        [[241.],\n",
              "         [245.],\n",
              "         [250.],\n",
              "         ...,\n",
              "         [ 57.],\n",
              "         [101.],\n",
              "         [146.]],\n",
              "\n",
              "        [[246.],\n",
              "         [250.],\n",
              "         [252.],\n",
              "         ...,\n",
              "         [ 78.],\n",
              "         [105.],\n",
              "         [162.]],\n",
              "\n",
              "        [[250.],\n",
              "         [251.],\n",
              "         [250.],\n",
              "         ...,\n",
              "         [ 88.],\n",
              "         [110.],\n",
              "         [152.]]],\n",
              "\n",
              "\n",
              "       [[[ 24.],\n",
              "         [ 32.],\n",
              "         [ 36.],\n",
              "         ...,\n",
              "         [173.],\n",
              "         [172.],\n",
              "         [173.]],\n",
              "\n",
              "        [[ 25.],\n",
              "         [ 34.],\n",
              "         [ 29.],\n",
              "         ...,\n",
              "         [173.],\n",
              "         [172.],\n",
              "         [173.]],\n",
              "\n",
              "        [[ 26.],\n",
              "         [ 29.],\n",
              "         [ 25.],\n",
              "         ...,\n",
              "         [172.],\n",
              "         [172.],\n",
              "         [174.]],\n",
              "\n",
              "        ...,\n",
              "\n",
              "        [[159.],\n",
              "         [185.],\n",
              "         [157.],\n",
              "         ...,\n",
              "         [157.],\n",
              "         [156.],\n",
              "         [153.]],\n",
              "\n",
              "        [[136.],\n",
              "         [157.],\n",
              "         [187.],\n",
              "         ...,\n",
              "         [152.],\n",
              "         [152.],\n",
              "         [150.]],\n",
              "\n",
              "        [[145.],\n",
              "         [130.],\n",
              "         [161.],\n",
              "         ...,\n",
              "         [142.],\n",
              "         [143.],\n",
              "         [142.]]],\n",
              "\n",
              "\n",
              "       [[[  4.],\n",
              "         [  0.],\n",
              "         [  0.],\n",
              "         ...,\n",
              "         [ 27.],\n",
              "         [ 24.],\n",
              "         [ 25.]],\n",
              "\n",
              "        [[  1.],\n",
              "         [  0.],\n",
              "         [  0.],\n",
              "         ...,\n",
              "         [ 26.],\n",
              "         [ 23.],\n",
              "         [ 26.]],\n",
              "\n",
              "        [[  0.],\n",
              "         [  0.],\n",
              "         [  0.],\n",
              "         ...,\n",
              "         [ 27.],\n",
              "         [ 26.],\n",
              "         [ 26.]],\n",
              "\n",
              "        ...,\n",
              "\n",
              "        [[  0.],\n",
              "         [  0.],\n",
              "         [  0.],\n",
              "         ...,\n",
              "         [ 34.],\n",
              "         [ 32.],\n",
              "         [ 30.]],\n",
              "\n",
              "        [[  0.],\n",
              "         [  0.],\n",
              "         [  0.],\n",
              "         ...,\n",
              "         [ 33.],\n",
              "         [ 31.],\n",
              "         [ 30.]],\n",
              "\n",
              "        [[  0.],\n",
              "         [  0.],\n",
              "         [  0.],\n",
              "         ...,\n",
              "         [ 30.],\n",
              "         [ 29.],\n",
              "         [ 30.]]],\n",
              "\n",
              "\n",
              "       ...,\n",
              "\n",
              "\n",
              "       [[[178.],\n",
              "         [174.],\n",
              "         [172.],\n",
              "         ...,\n",
              "         [ 78.],\n",
              "         [ 41.],\n",
              "         [ 57.]],\n",
              "\n",
              "        [[181.],\n",
              "         [178.],\n",
              "         [178.],\n",
              "         ...,\n",
              "         [126.],\n",
              "         [ 63.],\n",
              "         [ 64.]],\n",
              "\n",
              "        [[181.],\n",
              "         [176.],\n",
              "         [176.],\n",
              "         ...,\n",
              "         [177.],\n",
              "         [145.],\n",
              "         [ 82.]],\n",
              "\n",
              "        ...,\n",
              "\n",
              "        [[193.],\n",
              "         [191.],\n",
              "         [187.],\n",
              "         ...,\n",
              "         [  1.],\n",
              "         [  1.],\n",
              "         [  0.]],\n",
              "\n",
              "        [[193.],\n",
              "         [192.],\n",
              "         [191.],\n",
              "         ...,\n",
              "         [  0.],\n",
              "         [  0.],\n",
              "         [  0.]],\n",
              "\n",
              "        [[194.],\n",
              "         [191.],\n",
              "         [192.],\n",
              "         ...,\n",
              "         [  0.],\n",
              "         [  0.],\n",
              "         [  0.]]],\n",
              "\n",
              "\n",
              "       [[[ 30.],\n",
              "         [ 28.],\n",
              "         [ 28.],\n",
              "         ...,\n",
              "         [ 60.],\n",
              "         [ 50.],\n",
              "         [ 44.]],\n",
              "\n",
              "        [[ 30.],\n",
              "         [ 27.],\n",
              "         [ 28.],\n",
              "         ...,\n",
              "         [ 64.],\n",
              "         [ 52.],\n",
              "         [ 40.]],\n",
              "\n",
              "        [[ 31.],\n",
              "         [ 28.],\n",
              "         [ 30.],\n",
              "         ...,\n",
              "         [ 61.],\n",
              "         [ 54.],\n",
              "         [ 37.]],\n",
              "\n",
              "        ...,\n",
              "\n",
              "        [[104.],\n",
              "         [109.],\n",
              "         [110.],\n",
              "         ...,\n",
              "         [ 35.],\n",
              "         [ 30.],\n",
              "         [ 30.]],\n",
              "\n",
              "        [[102.],\n",
              "         [105.],\n",
              "         [108.],\n",
              "         ...,\n",
              "         [ 35.],\n",
              "         [ 31.],\n",
              "         [ 29.]],\n",
              "\n",
              "        [[ 93.],\n",
              "         [ 96.],\n",
              "         [100.],\n",
              "         ...,\n",
              "         [ 35.],\n",
              "         [ 30.],\n",
              "         [ 28.]]],\n",
              "\n",
              "\n",
              "       [[[ 19.],\n",
              "         [ 13.],\n",
              "         [ 14.],\n",
              "         ...,\n",
              "         [108.],\n",
              "         [ 95.],\n",
              "         [ 86.]],\n",
              "\n",
              "        [[ 16.],\n",
              "         [ 17.],\n",
              "         [ 15.],\n",
              "         ...,\n",
              "         [105.],\n",
              "         [ 94.],\n",
              "         [ 90.]],\n",
              "\n",
              "        [[ 10.],\n",
              "         [  9.],\n",
              "         [ 10.],\n",
              "         ...,\n",
              "         [101.],\n",
              "         [ 93.],\n",
              "         [ 95.]],\n",
              "\n",
              "        ...,\n",
              "\n",
              "        [[ 18.],\n",
              "         [ 14.],\n",
              "         [ 16.],\n",
              "         ...,\n",
              "         [ 55.],\n",
              "         [ 64.],\n",
              "         [ 95.]],\n",
              "\n",
              "        [[ 15.],\n",
              "         [ 15.],\n",
              "         [ 13.],\n",
              "         ...,\n",
              "         [123.],\n",
              "         [171.],\n",
              "         [192.]],\n",
              "\n",
              "        [[ 16.],\n",
              "         [ 14.],\n",
              "         [ 13.],\n",
              "         ...,\n",
              "         [189.],\n",
              "         [199.],\n",
              "         [201.]]]], dtype=float32)"
            ]
          },
          "metadata": {},
          "execution_count": 157
        }
      ]
    },
    {
      "cell_type": "code",
      "execution_count": null,
      "metadata": {
        "id": "wQzTbvbhl3we",
        "colab": {
          "base_uri": "https://localhost:8080/"
        },
        "outputId": "b7f7f7fe-9745-4ff4-b161-3a8391450975"
      },
      "outputs": [
        {
          "output_type": "execute_result",
          "data": {
            "text/plain": [
              "(26385, 48, 48, 1)"
            ]
          },
          "metadata": {},
          "execution_count": 158
        }
      ],
      "source": [
        "df.shape"
      ]
    },
    {
      "cell_type": "code",
      "execution_count": null,
      "metadata": {
        "id": "9GscgdWxl5Bs",
        "colab": {
          "base_uri": "https://localhost:8080/"
        },
        "outputId": "a2d7e746-e7f0-4818-b709-091add9d2dae"
      },
      "outputs": [
        {
          "output_type": "execute_result",
          "data": {
            "text/plain": [
              "(48, 48, 1)"
            ]
          },
          "metadata": {},
          "execution_count": 159
        }
      ],
      "source": [
        "df[0].shape"
      ]
    },
    {
      "cell_type": "code",
      "execution_count": null,
      "metadata": {
        "id": "XK5Cf6TNXfVz"
      },
      "outputs": [],
      "source": [
        "from keras.layers import Dense\n",
        "from keras.models import Sequential\n",
        "from tensorflow.keras.layers import Flatten,BatchNormalization\n",
        "from tensorflow.keras.layers import MaxPooling2D,Conv2D\n",
        "from tensorflow.keras.layers import Input,Activation,Add\n",
        "from tensorflow.keras.models import Model \n",
        "from tensorflow.keras.optimizers import Adam\n",
        "from tensorflow.keras.layers import Conv2D,InputLayer, Dropout, BatchNormalization, Flatten, Dense, MaxPooling2D"
      ]
    },
    {
      "cell_type": "code",
      "execution_count": null,
      "metadata": {
        "id": "HbY5-cwYXuz6"
      },
      "outputs": [],
      "source": [
        "model=Sequential()\n",
        "model.add(Conv2D(64,(3,3),input_shape=(48,48,1),activation=\"relu\"))\n",
        "model.add(MaxPooling2D((2,2)))\n",
        "model.add(Conv2D(128,(3,3),activation=\"relu\"))\n",
        "model.add(MaxPooling2D((2,2)))\n",
        "model.add(BatchNormalization()) \n",
        "model.add(Conv2D(256,(3,3),activation=\"relu\"))\n",
        "model.add(MaxPooling2D((2,2)))\n",
        "model.add(Conv2D(512,(3,3),activation=\"relu\"))\n",
        "model.add(MaxPooling2D((2,2)))\n",
        "model.add(BatchNormalization()) \n",
        "model.add(Flatten())\n",
        "model.add(Dropout(0.4))\n",
        "model.add(Dense(512,activation=\"relu\"))\n",
        "model.add(Dropout(0.2))\n",
        "model.add(Dense(4,activation=\"softmax\"))"
      ]
    },
    {
      "cell_type": "code",
      "execution_count": null,
      "metadata": {
        "id": "1l0fwX4bXzki",
        "colab": {
          "base_uri": "https://localhost:8080/"
        },
        "outputId": "256f4d6a-1da7-4f12-d646-171a3ecb34d4"
      },
      "outputs": [
        {
          "output_type": "stream",
          "name": "stdout",
          "text": [
            "Model: \"sequential_4\"\n",
            "_________________________________________________________________\n",
            " Layer (type)                Output Shape              Param #   \n",
            "=================================================================\n",
            " conv2d_16 (Conv2D)          (None, 46, 46, 64)        640       \n",
            "                                                                 \n",
            " max_pooling2d_16 (MaxPoolin  (None, 23, 23, 64)       0         \n",
            " g2D)                                                            \n",
            "                                                                 \n",
            " conv2d_17 (Conv2D)          (None, 21, 21, 128)       73856     \n",
            "                                                                 \n",
            " max_pooling2d_17 (MaxPoolin  (None, 10, 10, 128)      0         \n",
            " g2D)                                                            \n",
            "                                                                 \n",
            " batch_normalization_8 (Batc  (None, 10, 10, 128)      512       \n",
            " hNormalization)                                                 \n",
            "                                                                 \n",
            " conv2d_18 (Conv2D)          (None, 8, 8, 256)         295168    \n",
            "                                                                 \n",
            " max_pooling2d_18 (MaxPoolin  (None, 4, 4, 256)        0         \n",
            " g2D)                                                            \n",
            "                                                                 \n",
            " conv2d_19 (Conv2D)          (None, 2, 2, 512)         1180160   \n",
            "                                                                 \n",
            " max_pooling2d_19 (MaxPoolin  (None, 1, 1, 512)        0         \n",
            " g2D)                                                            \n",
            "                                                                 \n",
            " batch_normalization_9 (Batc  (None, 1, 1, 512)        2048      \n",
            " hNormalization)                                                 \n",
            "                                                                 \n",
            " flatten_4 (Flatten)         (None, 512)               0         \n",
            "                                                                 \n",
            " dropout_8 (Dropout)         (None, 512)               0         \n",
            "                                                                 \n",
            " dense_8 (Dense)             (None, 512)               262656    \n",
            "                                                                 \n",
            " dropout_9 (Dropout)         (None, 512)               0         \n",
            "                                                                 \n",
            " dense_9 (Dense)             (None, 4)                 2052      \n",
            "                                                                 \n",
            "=================================================================\n",
            "Total params: 1,817,092\n",
            "Trainable params: 1,815,812\n",
            "Non-trainable params: 1,280\n",
            "_________________________________________________________________\n"
          ]
        }
      ],
      "source": [
        "model.summary()"
      ]
    },
    {
      "cell_type": "code",
      "execution_count": null,
      "metadata": {
        "id": "_nR-RUqZZC3j"
      },
      "outputs": [],
      "source": [
        "model.compile(optimizer='adam',loss='categorical_crossentropy',metrics=['accuracy'])"
      ]
    },
    {
      "cell_type": "code",
      "execution_count": null,
      "metadata": {
        "id": "6eSdHPRIZFzf"
      },
      "outputs": [],
      "source": [
        "df1=df1['emotion']"
      ]
    },
    {
      "cell_type": "code",
      "execution_count": null,
      "metadata": {
        "id": "hfxvNuseZoGQ"
      },
      "outputs": [],
      "source": [
        "from keras.callbacks import EarlyStopping, ReduceLROnPlateau\n",
        "callbacks = [EarlyStopping(patience=4, monitor='val_loss', mode='min'), \n",
        "             ReduceLROnPlateau(patience=2, verbose=1)]"
      ]
    },
    {
      "cell_type": "code",
      "source": [
        "df1"
      ],
      "metadata": {
        "id": "glhZu98STYUd",
        "colab": {
          "base_uri": "https://localhost:8080/"
        },
        "outputId": "b540105e-37f5-4a27-9898-d3336818a899"
      },
      "execution_count": null,
      "outputs": [
        {
          "output_type": "execute_result",
          "data": {
            "text/plain": [
              "2        2\n",
              "3        4\n",
              "4        6\n",
              "5        2\n",
              "6        4\n",
              "        ..\n",
              "35880    2\n",
              "35882    6\n",
              "35883    3\n",
              "35885    3\n",
              "35886    2\n",
              "Name: emotion, Length: 26385, dtype: int64"
            ]
          },
          "metadata": {},
          "execution_count": 167
        }
      ]
    },
    {
      "cell_type": "code",
      "execution_count": null,
      "metadata": {
        "id": "jDylhlveZqRr"
      },
      "outputs": [],
      "source": [
        "from sklearn.preprocessing import LabelBinarizer\n",
        "lb=LabelBinarizer()\n",
        "df1=lb.fit_transform(df1)"
      ]
    },
    {
      "cell_type": "code",
      "source": [
        "df1"
      ],
      "metadata": {
        "id": "3F_f3WfBTcb5",
        "colab": {
          "base_uri": "https://localhost:8080/"
        },
        "outputId": "bf90794a-03c1-4f75-8528-36bbee7f8461"
      },
      "execution_count": null,
      "outputs": [
        {
          "output_type": "execute_result",
          "data": {
            "text/plain": [
              "array([[1, 0, 0, 0],\n",
              "       [0, 0, 1, 0],\n",
              "       [0, 0, 0, 1],\n",
              "       ...,\n",
              "       [0, 1, 0, 0],\n",
              "       [0, 1, 0, 0],\n",
              "       [1, 0, 0, 0]])"
            ]
          },
          "metadata": {},
          "execution_count": 169
        }
      ]
    },
    {
      "cell_type": "code",
      "source": [
        "df=df/255"
      ],
      "metadata": {
        "id": "39sUH2PBdIxj"
      },
      "execution_count": null,
      "outputs": []
    },
    {
      "cell_type": "code",
      "execution_count": null,
      "metadata": {
        "id": "IUjhVBNLZKXm"
      },
      "outputs": [],
      "source": [
        "from sklearn.model_selection import train_test_split\n",
        "X_train, X_test, y_train, y_test = train_test_split(df,df1, test_size=0.2, random_state=42)"
      ]
    },
    {
      "cell_type": "code",
      "execution_count": null,
      "metadata": {
        "id": "grACsyFgaOEe",
        "colab": {
          "base_uri": "https://localhost:8080/"
        },
        "outputId": "e24d2db5-e14b-4079-84b5-3071fabe45cb"
      },
      "outputs": [
        {
          "output_type": "stream",
          "name": "stdout",
          "text": [
            "Epoch 1/40\n",
            "660/660 [==============================] - 22s 30ms/step - loss: 1.3698 - accuracy: 0.4168 - val_loss: 1.1029 - val_accuracy: 0.5128 - lr: 0.0010\n",
            "Epoch 2/40\n",
            "660/660 [==============================] - 17s 25ms/step - loss: 1.0323 - accuracy: 0.5564 - val_loss: 1.1964 - val_accuracy: 0.4702 - lr: 0.0010\n",
            "Epoch 3/40\n",
            "660/660 [==============================] - 14s 20ms/step - loss: 0.9351 - accuracy: 0.6029 - val_loss: 1.0157 - val_accuracy: 0.5679 - lr: 0.0010\n",
            "Epoch 4/40\n",
            "660/660 [==============================] - 13s 19ms/step - loss: 0.8768 - accuracy: 0.6320 - val_loss: 1.1501 - val_accuracy: 0.5454 - lr: 0.0010\n",
            "Epoch 5/40\n",
            "658/660 [============================>.] - ETA: 0s - loss: 0.8215 - accuracy: 0.6629\n",
            "Epoch 5: ReduceLROnPlateau reducing learning rate to 0.00010000000474974513.\n",
            "660/660 [==============================] - 13s 19ms/step - loss: 0.8218 - accuracy: 0.6628 - val_loss: 1.0849 - val_accuracy: 0.5496 - lr: 0.0010\n",
            "Epoch 6/40\n",
            "660/660 [==============================] - 13s 19ms/step - loss: 0.6821 - accuracy: 0.7230 - val_loss: 0.8064 - val_accuracy: 0.6676 - lr: 1.0000e-04\n",
            "Epoch 7/40\n",
            "660/660 [==============================] - 13s 20ms/step - loss: 0.6233 - accuracy: 0.7484 - val_loss: 0.8130 - val_accuracy: 0.6689 - lr: 1.0000e-04\n",
            "Epoch 8/40\n",
            "659/660 [============================>.] - ETA: 0s - loss: 0.5874 - accuracy: 0.7627\n",
            "Epoch 8: ReduceLROnPlateau reducing learning rate to 1.0000000474974514e-05.\n",
            "660/660 [==============================] - 13s 20ms/step - loss: 0.5873 - accuracy: 0.7627 - val_loss: 0.8173 - val_accuracy: 0.6729 - lr: 1.0000e-04\n",
            "Epoch 9/40\n",
            "660/660 [==============================] - 14s 21ms/step - loss: 0.5408 - accuracy: 0.7829 - val_loss: 0.8163 - val_accuracy: 0.6714 - lr: 1.0000e-05\n",
            "Epoch 10/40\n",
            "658/660 [============================>.] - ETA: 0s - loss: 0.5340 - accuracy: 0.7884\n",
            "Epoch 10: ReduceLROnPlateau reducing learning rate to 1.0000000656873453e-06.\n",
            "660/660 [==============================] - 13s 19ms/step - loss: 0.5336 - accuracy: 0.7886 - val_loss: 0.8188 - val_accuracy: 0.6710 - lr: 1.0000e-05\n"
          ]
        }
      ],
      "source": [
        "n_epochs = 40\n",
        "batch_size = 64\n",
        "history = model.fit(X_train,y_train,\n",
        "                           epochs=n_epochs, \n",
        "                           callbacks=callbacks,\n",
        "                           validation_data=(X_test, y_test))"
      ]
    },
    {
      "cell_type": "code",
      "source": [
        "model.save('face_emotion_detection.h5')"
      ],
      "metadata": {
        "id": "Y7wyjavnXzDZ"
      },
      "execution_count": null,
      "outputs": []
    },
    {
      "cell_type": "code",
      "source": [
        "i=np.random.randint(4000)\n",
        "img = np.array(image.load_img(\"/content/gdrive/MyDrive/SE/378ffa7b4bc07f190ee35f85ed816377.jpg\",target_size=(48,48)))\n",
        "img=np.array(tf.image.rgb_to_grayscale(img, name=None))/255\n",
        "img = img.reshape(1, 48, 48, 1)\n",
        "dict={0:'Fear',1:'Happiness',2:'Sadness',3:'Neutral'}\n",
        "#a=model.predict(X_test[i].reshape(1,48,48,1))\n",
        "plt.imshow(img.reshape(48,48),cmap='pink')\n",
        "a=model.predict(img)\n",
        "print(dict[np.argmax(a)])"
      ],
      "metadata": {
        "colab": {
          "base_uri": "https://localhost:8080/",
          "height": 285
        },
        "id": "9H-XkoJrOKka",
        "outputId": "1568189f-d198-486c-ca9a-aeb7479cb990"
      },
      "execution_count": null,
      "outputs": [
        {
          "output_type": "stream",
          "name": "stdout",
          "text": [
            "Happiness\n"
          ]
        },
        {
          "output_type": "display_data",
          "data": {
            "text/plain": [
              "<Figure size 432x288 with 1 Axes>"
            ],
            "image/png": "[encoded data removed]"
          },
          "metadata": {
            "needs_background": "light"
          }
        }
      ]
    },
    {
      "cell_type": "code",
      "source": [
        "i=np.random.randint(4000)\n",
        "a=model.predict(X_test[i].reshape(1,48,48,1))\n",
        "print(\"Predicted:\",dict[np.argmax(a)],\" Actual:\",dict[np.argmax(y_test[i])])\n",
        "plt.imshow(X_test[i].reshape(48,48),cmap='pink')"
      ],
      "metadata": {
        "colab": {
          "base_uri": "https://localhost:8080/",
          "height": 303
        },
        "id": "-OXmvPAWOvm4",
        "outputId": "2a9cd419-2784-4394-e16d-21c2d2ff8864"
      },
      "execution_count": null,
      "outputs": [
        {
          "output_type": "stream",
          "name": "stdout",
          "text": [
            "Predicted: Neutral  Actual: Neutral\n"
          ]
        },
        {
          "output_type": "execute_result",
          "data": {
            "text/plain": [
              "<matplotlib.image.AxesImage at 0x7f444ae68ed0>"
            ]
          },
          "metadata": {},
          "execution_count": 203
        },
        {
          "output_type": "display_data",
          "data": {
            "text/plain": [
              "<Figure size 432x288 with 1 Axes>"
            ],
            "image/png": "[encoded data removed]"
          },
          "metadata": {
            "needs_background": "light"
          }
        }
      ]
    }
  ],
  "metadata": {
    "accelerator": "GPU",
    "colab": {
      "name": "Facial_emotion_detection.ipynb",
      "provenance": [],
      "collapsed_sections": [],
      "authorship_tag": "ABX9TyOsyrF0SsdICmI0f/5YhWhK",
      "include_colab_link": true
    },
    "kernelspec": {
      "display_name": "Python 3",
      "name": "python3"
    },
    "language_info": {
      "name": "python"
    }
  },
  "nbformat": 4,
  "nbformat_minor": 0
}